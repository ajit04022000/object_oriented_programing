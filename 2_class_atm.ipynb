{
  "nbformat": 4,
  "nbformat_minor": 0,
  "metadata": {
    "colab": {
      "name": "2.class_atm.ipynb",
      "provenance": [],
      "authorship_tag": "ABX9TyOJL+Qx3tRaTQDcUTNXOvdS",
      "include_colab_link": true
    },
    "kernelspec": {
      "name": "python3",
      "display_name": "Python 3"
    },
    "language_info": {
      "name": "python"
    }
  },
  "cells": [
    {
      "cell_type": "markdown",
      "metadata": {
        "id": "view-in-github",
        "colab_type": "text"
      },
      "source": [
        "<a href=\"https://colab.research.google.com/github/ajit04022000/object_oriented_programing/blob/main/2_class_atm.ipynb\" target=\"_parent\"><img src=\"https://colab.research.google.com/assets/colab-badge.svg\" alt=\"Open In Colab\"/></a>"
      ]
    },
    {
      "cell_type": "code",
      "execution_count": 12,
      "metadata": {
        "id": "d1JuPt9XoeFn"
      },
      "outputs": [],
      "source": [
        "class Atm:\n",
        "\n",
        "  ## __init__ is a constructor :-(constructer is a special function which codes are \n",
        "  #autometicaly generated when we make the object of that specific class )\n",
        "  def __init__(self):\n",
        "\n",
        "    self.pin = ''\n",
        "    self.balance = 0\n",
        "\n",
        "    self.menu()\n",
        "\n",
        "  def menu(self):\n",
        "    user_input = input('''\n",
        "\n",
        "    Hello,how would you like to proceed?\n",
        "    1.Enter 1 to Create pin\n",
        "    2.Enter 2 to Deposite\n",
        "    3.Enter 3 to Withdraw\n",
        "    4.Enter 4 to Check Balance\n",
        "    5.Enter 5 to exit\n",
        "\n",
        "    ''')\n",
        "    if user_input ==\"1\":\n",
        "      self.create_pin()\n",
        "    elif user_input == \"2\":\n",
        "      self.deposite()\n",
        "    elif user_input == \"3\":\n",
        "      self.withdraw()\n",
        "    elif user_input == \"4\":\n",
        "      print(\"Check Balance\")\n",
        "    else:\n",
        "      print('Bye')\n",
        "  \n",
        "\n",
        "\n",
        "  def create_pin(self):\n",
        "    self.pin=input('Enter your Pin')\n",
        "    print('Pin set sucefully')\n",
        "\n",
        "  def deposite(self):\n",
        "    temp=input('Enter your Pin')\n",
        "    if temp == self.pin:\n",
        "      amount = int(input('enter the amount'))\n",
        "      self.balance = self.balance + amount\n",
        "      print(\"Deposite Sucessfully\")\n",
        "    else:\n",
        "      print('Invalid pin')\n",
        "\n",
        "\n",
        "  def withdraw(self):\n",
        "    temp=input('Enter your Pin')\n",
        "    if temp == self.pin:\n",
        "      amount=int(input('enter the amount'))\n",
        "      if amount<self.balance:\n",
        "        self.balance = self.balance - amount\n",
        "        print('Withdrawl sucessfull')\n",
        "      else:\n",
        "        print(\"insuffecent funds\")\n",
        "    else:\n",
        "      print(\"invalied pin\")\n",
        "        \n",
        "  def check_balance(self):\n",
        "    temp=input('Enter your Pin')\n",
        "    if temp == self.pin:\n",
        "      print(self.balance)  \n",
        "\n",
        "\n"
      ]
    },
    {
      "cell_type": "code",
      "source": [
        "sbi =Atm()"
      ],
      "metadata": {
        "colab": {
          "base_uri": "https://localhost:8080/"
        },
        "id": "XpnS4Ii0r505",
        "outputId": "f3adddbb-bad5-48db-a6f1-7aa841b44860"
      },
      "execution_count": 13,
      "outputs": [
        {
          "output_type": "stream",
          "name": "stdout",
          "text": [
            "\n",
            "\n",
            "    Hello,how would you like to proceed?\n",
            "    1.Enter 1 to Create pin\n",
            "    2.Enter 2 to Deposite\n",
            "    3.Enter 3 to Withdraw\n",
            "    4.Enter 4 to Check Balance\n",
            "    5.Enter 5 to exit\n",
            "\n",
            "    1\n",
            "Enter your Pin8055\n",
            "Pin set sucefully\n"
          ]
        }
      ]
    },
    {
      "cell_type": "code",
      "source": [
        "sbi.deposite()"
      ],
      "metadata": {
        "colab": {
          "base_uri": "https://localhost:8080/"
        },
        "id": "JRK8EwfMr_dv",
        "outputId": "6f5532a3-e206-45e7-d6fe-8ba25c7347b1"
      },
      "execution_count": 14,
      "outputs": [
        {
          "output_type": "stream",
          "name": "stdout",
          "text": [
            "Enter your Pin8055\n",
            "enter the amount100000\n",
            "Deposite Sucessfully\n"
          ]
        }
      ]
    },
    {
      "cell_type": "code",
      "source": [
        "sbi.deposite()\n"
      ],
      "metadata": {
        "colab": {
          "base_uri": "https://localhost:8080/"
        },
        "id": "9mzkRb2hwluq",
        "outputId": "db2f6879-806a-4e88-fed0-3d079325b206"
      },
      "execution_count": 15,
      "outputs": [
        {
          "output_type": "stream",
          "name": "stdout",
          "text": [
            "Enter your Pin8055\n",
            "enter the amount200\n",
            "Deposite Sucessfully\n"
          ]
        }
      ]
    },
    {
      "cell_type": "code",
      "source": [
        "sbi.check_balance()"
      ],
      "metadata": {
        "colab": {
          "base_uri": "https://localhost:8080/"
        },
        "id": "AMSXxu4hwoof",
        "outputId": "014b559a-7e60-4012-a194-6c1ab553b602"
      },
      "execution_count": 16,
      "outputs": [
        {
          "output_type": "stream",
          "name": "stdout",
          "text": [
            "Enter your Pin8055\n",
            "100200\n"
          ]
        }
      ]
    },
    {
      "cell_type": "code",
      "source": [
        "sbi.withdraw()"
      ],
      "metadata": {
        "colab": {
          "base_uri": "https://localhost:8080/"
        },
        "id": "Nx2rB_2Aw7Zg",
        "outputId": "1b36488e-0874-4467-ef07-22aab6adae49"
      },
      "execution_count": 17,
      "outputs": [
        {
          "output_type": "stream",
          "name": "stdout",
          "text": [
            "Enter your Pin8055\n",
            "enter the amount80000000\n",
            "insuffecent funds\n"
          ]
        }
      ]
    },
    {
      "cell_type": "code",
      "source": [
        "sbi.withdraw()\n"
      ],
      "metadata": {
        "colab": {
          "base_uri": "https://localhost:8080/"
        },
        "id": "jg4MnRj7w_Q0",
        "outputId": "b397cced-04dd-447d-d47e-71efbee2db9a"
      },
      "execution_count": 18,
      "outputs": [
        {
          "output_type": "stream",
          "name": "stdout",
          "text": [
            "Enter your Pin50000\n",
            "invalied pin\n"
          ]
        }
      ]
    },
    {
      "cell_type": "code",
      "source": [
        "sbi.check_balance()\n"
      ],
      "metadata": {
        "colab": {
          "base_uri": "https://localhost:8080/"
        },
        "id": "uNp_fY5xxEEa",
        "outputId": "4b2e0f05-ccf2-4c5a-e585-28c3afa69da8"
      },
      "execution_count": 19,
      "outputs": [
        {
          "output_type": "stream",
          "name": "stdout",
          "text": [
            "Enter your Pin8055\n",
            "100200\n"
          ]
        }
      ]
    },
    {
      "cell_type": "code",
      "source": [
        ""
      ],
      "metadata": {
        "id": "csZf0S723R9d"
      },
      "execution_count": null,
      "outputs": []
    }
  ]
}