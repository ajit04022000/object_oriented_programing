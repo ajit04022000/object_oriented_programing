{
  "nbformat": 4,
  "nbformat_minor": 0,
  "metadata": {
    "colab": {
      "name": "1.class_Fraction.ipynb",
      "provenance": [],
      "authorship_tag": "ABX9TyP6L6SICYKD4yQjQU5OpTVZ",
      "include_colab_link": true
    },
    "kernelspec": {
      "name": "python3",
      "display_name": "Python 3"
    },
    "language_info": {
      "name": "python"
    }
  },
  "cells": [
    {
      "cell_type": "markdown",
      "metadata": {
        "id": "view-in-github",
        "colab_type": "text"
      },
      "source": [
        "<a href=\"https://colab.research.google.com/github/ajit04022000/object_oriented_programing/blob/main/1_class_Fraction.ipynb\" target=\"_parent\"><img src=\"https://colab.research.google.com/assets/colab-badge.svg\" alt=\"Open In Colab\"/></a>"
      ]
    },
    {
      "cell_type": "markdown",
      "source": [
        "##<b> Hear i am trying to making a class for haldling the \"Fraction\" beacause no programing laguage is present who allow the fractions. \n",
        "* fraction (+,-,/,*,// etc)\n",
        "<b> "
      ],
      "metadata": {
        "id": "BZEZfugr8sou"
      }
    },
    {
      "cell_type": "code",
      "execution_count": 22,
      "metadata": {
        "id": "gGMzlCBr8pym"
      },
      "outputs": [],
      "source": [
        "class Fraction:\n",
        "\n",
        "  #making a constructor \n",
        "  def __init__(self,n,d):\n",
        "    # making num and den two attribute\n",
        "    self.num = n   #n = numertor    \n",
        "    self.den = d   #d- denominator\n",
        "\n",
        "\n",
        "  # its a magic function which hellps the class\n",
        "  # to print string in a magger as we pass\n",
        "  def __str__ (self):\n",
        "    return f\"{self.num}/{self.den}\"\n",
        "\n",
        "\n",
        "  # This a magic function which hwlps the class\n",
        "  # to add 2 items\n",
        "  def __add__ (self,other):\n",
        "    temp_num = self.num * other.den + other.num *self.den\n",
        "    temp_den = self.den * other.den\n",
        "\n",
        "    return f\"{temp_num}/{temp_den}\"\n",
        "\n",
        "  \n",
        "  # This a magic function which hwlps the class\n",
        "  # \"\"\"\"to substratct 2 items\"\"\"\"\n",
        "  def __sub__ (self,other):\n",
        "    temp_num = self.num * other.den - other.num *self.den\n",
        "    temp_den = self.den * other.den\n",
        "\n",
        "    return f\"{temp_num}/{temp_den}\"\n",
        "\n",
        "\n",
        "  # This a magic function which hwlps the class\n",
        "  # \"\"\"\"to multiplication 2 items\"\"\"\"\n",
        "  def __mul__ (self,other):\n",
        "    temp_num = self.num *  other.num\n",
        "    temp_den = self.den * other.den\n",
        "\n",
        "    return f\"{temp_num}/{temp_den}\"\n",
        "\n",
        "\n",
        "  # This a magic function which hwlps the class\n",
        "  # \"\"\"to devision 2 items\"\"\"\n",
        "  def __truediv__ (self,other):\n",
        "    temp_num = self.num *  other.den\n",
        "    temp_den = self.den * other.num\n",
        "\n",
        "    return f\"{temp_num}/{temp_den}\""
      ]
    },
    {
      "cell_type": "markdown",
      "source": [
        "\n",
        "\n",
        "---\n",
        "\n",
        "\n",
        "\n",
        "---\n",
        "\n",
        "\n",
        "\n",
        "---\n",
        "\n"
      ],
      "metadata": {
        "id": "IK6Ih3EyCxyg"
      }
    },
    {
      "cell_type": "code",
      "source": [
        "x = Fraction(3,4)"
      ],
      "metadata": {
        "id": "-dB8LBtr_1Ae"
      },
      "execution_count": 23,
      "outputs": []
    },
    {
      "cell_type": "code",
      "source": [
        "y = Fraction(5,6)"
      ],
      "metadata": {
        "id": "CbMdcUaBCeGf"
      },
      "execution_count": 24,
      "outputs": []
    },
    {
      "cell_type": "code",
      "source": [
        "print(x)"
      ],
      "metadata": {
        "colab": {
          "base_uri": "https://localhost:8080/"
        },
        "id": "L3C4af4wChki",
        "outputId": "502ac715-08e7-4cb1-b504-337b33d83678"
      },
      "execution_count": 25,
      "outputs": [
        {
          "output_type": "stream",
          "name": "stdout",
          "text": [
            "3/4\n"
          ]
        }
      ]
    },
    {
      "cell_type": "code",
      "source": [
        "print(y)"
      ],
      "metadata": {
        "colab": {
          "base_uri": "https://localhost:8080/"
        },
        "id": "423smqP1CjEq",
        "outputId": "ca90a210-4665-4776-8b10-3d0d96563742"
      },
      "execution_count": 26,
      "outputs": [
        {
          "output_type": "stream",
          "name": "stdout",
          "text": [
            "5/6\n"
          ]
        }
      ]
    },
    {
      "cell_type": "code",
      "source": [
        "print(x+y)"
      ],
      "metadata": {
        "colab": {
          "base_uri": "https://localhost:8080/"
        },
        "id": "IwJMUKJ-CkRK",
        "outputId": "2f3f29fc-cb78-4ec8-c9f9-99b762bd3485"
      },
      "execution_count": 27,
      "outputs": [
        {
          "output_type": "stream",
          "name": "stdout",
          "text": [
            "38/24\n"
          ]
        }
      ]
    },
    {
      "cell_type": "code",
      "source": [
        "print(x-y)"
      ],
      "metadata": {
        "colab": {
          "base_uri": "https://localhost:8080/"
        },
        "id": "2mPJALGmEBa1",
        "outputId": "8c3e4b59-23e7-45f7-ade1-744ad6568b20"
      },
      "execution_count": 28,
      "outputs": [
        {
          "output_type": "stream",
          "name": "stdout",
          "text": [
            "-2/24\n"
          ]
        }
      ]
    },
    {
      "cell_type": "code",
      "source": [
        "print(x*y)"
      ],
      "metadata": {
        "colab": {
          "base_uri": "https://localhost:8080/"
        },
        "id": "vbrlHK7hEFeK",
        "outputId": "b55530f5-b3e3-4915-b1dc-65ccc14ed218"
      },
      "execution_count": 29,
      "outputs": [
        {
          "output_type": "stream",
          "name": "stdout",
          "text": [
            "15/24\n"
          ]
        }
      ]
    },
    {
      "cell_type": "code",
      "source": [
        "print(x/y)"
      ],
      "metadata": {
        "colab": {
          "base_uri": "https://localhost:8080/"
        },
        "id": "dlEMPMksEjXe",
        "outputId": "3d7c8d32-ee25-4abf-8a67-431dad51380d"
      },
      "execution_count": 30,
      "outputs": [
        {
          "output_type": "stream",
          "name": "stdout",
          "text": [
            "18/20\n"
          ]
        }
      ]
    }
  ]
}