{
  "nbformat": 4,
  "nbformat_minor": 0,
  "metadata": {
    "colab": {
      "name": "class_atm.ipynb",
      "provenance": [],
      "authorship_tag": "ABX9TyOJL+Qx3tRaTQDcUTNXOvdS",
      "include_colab_link": true
    },
    "kernelspec": {
      "name": "python3",
      "display_name": "Python 3"
    },
    "language_info": {
      "name": "python"
    }
  },
  "cells": [
    {
      "cell_type": "markdown",
      "metadata": {
        "id": "view-in-github",
        "colab_type": "text"
      },
      "source": [
        "<a href=\"https://colab.research.google.com/github/ajit04022000/object_oriented_programing/blob/main/class_atm.ipynb\" target=\"_parent\"><img src=\"https://colab.research.google.com/assets/colab-badge.svg\" alt=\"Open In Colab\"/></a>"
      ]
    },
    {
      "cell_type": "code",
      "execution_count": 4,
      "metadata": {
        "id": "d1JuPt9XoeFn"
      },
      "outputs": [],
      "source": [
        "class Atm:\n",
        "\n",
        "  ## __init__ is a constructor :-(constructer is a special function which codes are \n",
        "  #autometicaly generated when we make the object of that specific class )\n",
        "  def __init__(self):\n",
        "\n",
        "    self.pin = ''\n",
        "    self.balance = 0\n",
        "\n",
        "    self.menu()\n",
        "\n",
        "  def menu(self):\n",
        "    user_input = input('''\n",
        "\n",
        "    Hello,how would you like to proceed?\n",
        "    1.Enter 1 to Create pin\n",
        "    2.Enter 2 to Deposite\n",
        "    3.Enter 3 to Withdraw\n",
        "    4.Enter 4 to Check Balance\n",
        "    5.Enter 5 to exit\n",
        "\n",
        "    ''')\n",
        "    if user_input ==\"1\":\n",
        "      self.create_pin()\n",
        "    elif user_input == \"2\":\n",
        "      self.deposite()\n",
        "    elif user_input == \"3\":\n",
        "      self.withdraw()\n",
        "    elif user_input == \"4\":\n",
        "      print(\"Check Balance\")\n",
        "    else:\n",
        "      print('Bye')\n",
        "  \n",
        "\n",
        "\n",
        "  def create_pin(self):\n",
        "    self.pin=input('Enter your Pin')\n",
        "    print('Pin set sucefully')\n",
        "\n",
        "  def deposite(self):\n",
        "    temp=input('Enter your Pin')\n",
        "    if temp == self.pin:\n",
        "      amount = int(input('enter the amount'))\n",
        "      self.balance = self.balance + amount\n",
        "      print(\"Deposite Sucessfully\")\n",
        "    else:\n",
        "      print('Invalid pin')\n",
        "\n",
        "\n",
        "  def withdraw(self):\n",
        "    temp=input('Enter your Pin')\n",
        "    if temp == self.pin:\n",
        "      amount=int(input('enter the amount'))\n",
        "      if amount<self.balance:\n",
        "        self.balance = self.balance - amount\n",
        "        print('Withdrawl sucessfull')\n",
        "      else:\n",
        "        print(\"insuffecent funds\")\n",
        "    else:\n",
        "      print(\"invalied pin\")\n",
        "        \n",
        "  def check_balance(self):\n",
        "    temp=input('Enter your Pin')\n",
        "    if temp == self.pin:\n",
        "      print(self.balance)  \n",
        "\n",
        "\n"
      ]
    },
    {
      "cell_type": "code",
      "source": [
        "sbi =Atm()"
      ],
      "metadata": {
        "colab": {
          "base_uri": "https://localhost:8080/"
        },
        "id": "XpnS4Ii0r505",
        "outputId": "2e46a914-8b94-4772-8548-a5cd0899b10b"
      },
      "execution_count": 5,
      "outputs": [
        {
          "output_type": "stream",
          "name": "stdout",
          "text": [
            "\n",
            "\n",
            "    Hello,how would you like to proceed?\n",
            "    1.Enter 1 to Create pin\n",
            "    2.Enter 2 to Deposite\n",
            "    3.Enter 3 to Withdraw\n",
            "    4.Enter 4 to Check Balance\n",
            "    5.Enter 5 to exit\n",
            "\n",
            "    1\n",
            "Enter your Pin1234\n",
            "Pin set sucefully\n"
          ]
        }
      ]
    },
    {
      "cell_type": "code",
      "source": [
        "sbi.deposite()"
      ],
      "metadata": {
        "colab": {
          "base_uri": "https://localhost:8080/"
        },
        "id": "JRK8EwfMr_dv",
        "outputId": "ff6d8da0-5a0f-434c-c7a3-a2992b701e2e"
      },
      "execution_count": 6,
      "outputs": [
        {
          "output_type": "stream",
          "name": "stdout",
          "text": [
            "Enter your Pin12\n",
            "Invalid pin\n"
          ]
        }
      ]
    },
    {
      "cell_type": "code",
      "source": [
        "sbi.deposite()\n"
      ],
      "metadata": {
        "colab": {
          "base_uri": "https://localhost:8080/"
        },
        "id": "9mzkRb2hwluq",
        "outputId": "553530d7-88bf-40c5-9635-11dd299c5d6a"
      },
      "execution_count": 7,
      "outputs": [
        {
          "output_type": "stream",
          "name": "stdout",
          "text": [
            "Enter your Pin1234\n",
            "enter the amount50000\n",
            "Deposite Sucessfully\n"
          ]
        }
      ]
    },
    {
      "cell_type": "code",
      "source": [
        "sbi.check_balance()"
      ],
      "metadata": {
        "colab": {
          "base_uri": "https://localhost:8080/"
        },
        "id": "AMSXxu4hwoof",
        "outputId": "e971c874-c413-46de-82b7-6d3898cc0e0d"
      },
      "execution_count": 8,
      "outputs": [
        {
          "output_type": "stream",
          "name": "stdout",
          "text": [
            "Enter your Pin1234\n",
            "50000\n"
          ]
        }
      ]
    },
    {
      "cell_type": "code",
      "source": [
        "sbi.withdraw()"
      ],
      "metadata": {
        "colab": {
          "base_uri": "https://localhost:8080/"
        },
        "id": "Nx2rB_2Aw7Zg",
        "outputId": "b6c8e1bf-2292-436f-aebd-e81bd1c8c5d3"
      },
      "execution_count": 9,
      "outputs": [
        {
          "output_type": "stream",
          "name": "stdout",
          "text": [
            "Enter your Pin1234\n",
            "enter the amount200000\n",
            "insuffecent funds\n"
          ]
        }
      ]
    },
    {
      "cell_type": "code",
      "source": [
        "sbi.withdraw()\n"
      ],
      "metadata": {
        "colab": {
          "base_uri": "https://localhost:8080/"
        },
        "id": "jg4MnRj7w_Q0",
        "outputId": "1ca858f2-bb14-4d90-b786-9ff24527a89b"
      },
      "execution_count": 10,
      "outputs": [
        {
          "output_type": "stream",
          "name": "stdout",
          "text": [
            "Enter your Pin1234\n",
            "enter the amount2000\n",
            "Withdrawl sucessfull\n"
          ]
        }
      ]
    },
    {
      "cell_type": "code",
      "source": [
        "sbi.check_balance()\n"
      ],
      "metadata": {
        "colab": {
          "base_uri": "https://localhost:8080/"
        },
        "id": "uNp_fY5xxEEa",
        "outputId": "fefaf5ea-e18d-4d3e-d072-0e0e3344fd5a"
      },
      "execution_count": 11,
      "outputs": [
        {
          "output_type": "stream",
          "name": "stdout",
          "text": [
            "Enter your Pin1234\n",
            "48000\n"
          ]
        }
      ]
    },
    {
      "cell_type": "code",
      "source": [
        ""
      ],
      "metadata": {
        "id": "D1nT6G5_xIky"
      },
      "execution_count": null,
      "outputs": []
    }
  ]
}